{
 "cells": [
  {
   "cell_type": "code",
   "execution_count": 1,
   "metadata": {},
   "outputs": [],
   "source": [
    "%run \"0_workspace_setup.ipynb\""
   ]
  },
  {
   "cell_type": "code",
   "execution_count": 2,
   "metadata": {},
   "outputs": [],
   "source": [
    "from nhm_helpers.output_plots import create_streamflow_plot\n",
    "from nhm_helpers.nhm_hydrofabric import make_hf_map_elements\n",
    "from nhm_helpers.map_template import make_streamflow_map\n",
    "from nhm_helpers.nhm_output_visualization import retrieve_hru_output_info\n",
    "from ipywidgets import widgets\n",
    "from IPython.display import display\n",
    "\n",
    "poi_id_sel = None\n",
    "crs = 4326"
   ]
  },
  {
   "cell_type": "markdown",
   "metadata": {},
   "source": [
    "## Introduction\n",
    "The purpose of this notebook is to assist in the evaluation of NHM subdomain model simulated streamflow. First, the notebook creates a map of gage locations color coded by Kling-Gupta efficiency (KGE; [2009](https://www.sciencedirect.com/science/article/abs/pii/S0022169409004843)) value. Gage locations are overlays in a map of NHM headwater basins (HWs) that are color coded to calibration type: yellow indicates HWs calibrated with statistical streamflow targets at the HW outlet; green indicates HWs that were further calibrated with streamflow observations at selected gage locations.\n",
    "Next, a gage may be selected and a plot created that shows a time-series of simulated and observed streamflow at daily, monthly, and annual time steps. A flow exceedance curve and table of summary statistics is also provided in the plot for streamflow evaluation purposes. Additionally, maps and plots produced are saved for use outside of notebooks as HTML files in the `html_maps` and `html_plots` folders in the `notebook_output` folder.\n",
    "\n",
    "The cell below reads the NHM subdomain model hydrofabric elements for mapping purposes using `make_hf_map_elements()`, retrieves `pywatershed` output file information for mapping and plotting using `retrieve_hru_output_info()`, and writes general NHM subdomain model run and hydrofabric information."
   ]
  },
  {
   "cell_type": "code",
   "execution_count": 3,
   "metadata": {},
   "outputs": [
    {
     "data": {
      "text/html": [
       "<pre style=\"white-space:pre;overflow-x:auto;line-height:normal;font-family:Menlo,'DejaVu Sans Mono',consolas,'Courier New',monospace\">NHM model domain: <span style=\"color: #000000; text-decoration-color: #000000; font-weight: bold\">walla_walla</span>, parameter file: <span style=\"color: #000000; text-decoration-color: #000000; font-weight: bold\">myparam.param</span>\n",
       "Simulation and observation data range: <span style=\"color: #008080; text-decoration-color: #008080; font-weight: bold\">01</span>/<span style=\"color: #008080; text-decoration-color: #008080; font-weight: bold\">01</span>/<span style=\"color: #008080; text-decoration-color: #008080; font-weight: bold\">2011</span> - <span style=\"color: #008080; text-decoration-color: #008080; font-weight: bold\">12</span>/<span style=\"color: #008080; text-decoration-color: #008080; font-weight: bold\">31</span>/<span style=\"color: #008080; text-decoration-color: #008080; font-weight: bold\">2022</span> <span style=\"font-weight: bold\">(</span>from <span style=\"font-weight: bold\">control.default.bandit)</span>.\n",
       " \n",
       "The parameter file contains <span style=\"color: #008080; text-decoration-color: #008080; font-weight: bold\">8</span> <span style=\"font-weight: bold\">gages</span> managed by USGS, <span style=\"color: #008080; text-decoration-color: #008080; font-weight: bold\">44</span> <span style=\"font-weight: bold\">segments</span>, and <span style=\"color: #008080; text-decoration-color: #008080; font-weight: bold\">87</span> <span style=\"font-weight: bold\">HRUs</span>. \n",
       "     <span style=\"color: #008080; text-decoration-color: #008080; font-weight: bold\">85</span> HRUs are within HWs, and <span style=\"color: #008080; text-decoration-color: #008080; font-weight: bold\">55</span> are within HW calibrated with streamflow observations.\n",
       "</pre>\n"
      ],
      "text/plain": [
       "NHM model domain: \u001b[1;30mwalla_walla\u001b[0m, parameter file: \u001b[1;30mmyparam.param\u001b[0m\n",
       "Simulation and observation data range: \u001b[1;36m01\u001b[0m/\u001b[1;36m01\u001b[0m/\u001b[1;36m2011\u001b[0m - \u001b[1;36m12\u001b[0m/\u001b[1;36m31\u001b[0m/\u001b[1;36m2022\u001b[0m \u001b[1m(\u001b[0mfrom \u001b[1mcontrol.default.bandit\u001b[0m\u001b[1m)\u001b[0m.\n",
       " \n",
       "The parameter file contains \u001b[1;36m8\u001b[0m \u001b[1mgages\u001b[0m managed by USGS, \u001b[1;36m44\u001b[0m \u001b[1msegments\u001b[0m, and \u001b[1;36m87\u001b[0m \u001b[1mHRUs\u001b[0m. \n",
       "     \u001b[1;36m85\u001b[0m HRUs are within HWs, and \u001b[1;36m55\u001b[0m are within HW calibrated with streamflow observations.\n"
      ]
     },
     "metadata": {},
     "output_type": "display_data"
    }
   ],
   "source": [
    "(\n",
    "    hru_gdf,\n",
    "    hru_txt,\n",
    "    hru_cal_level_txt,\n",
    "    seg_gdf,\n",
    "    seg_txt,\n",
    "    nwis_gages_aoi,\n",
    "    poi_df,\n",
    "    gages_df,\n",
    "    gages_txt,\n",
    "    gages_txt_nb2,\n",
    "    HW_basins_gdf,\n",
    "    HW_basins,\n",
    ") = make_hf_map_elements(\n",
    "    NHM_dir,\n",
    "    model_dir,\n",
    "    GIS_format,\n",
    "    param_filename,\n",
    "    control_file_name,\n",
    "    nwis_gages_file,\n",
    "    gages_file,\n",
    "    default_gages_file,\n",
    "    nhru_params,\n",
    "    nhru_nmonths_params,\n",
    "    nwis_gage_nobs_min,\n",
    ")\n",
    "\n",
    "plot_start_date, plot_end_date, year_list, output_var_list = retrieve_hru_output_info(\n",
    "    out_dir,\n",
    "    water_years,\n",
    ")\n",
    "con.print(\n",
    "    f\"{workspace_txt}\\n\",\n",
    "    f\"\\n{gages_txt}{seg_txt}{hru_txt}\",\n",
    "    f\"\\n     {hru_cal_level_txt}\",\n",
    ")"
   ]
  },
  {
   "cell_type": "markdown",
   "metadata": {},
   "source": [
    "## Create an interactive map to evaluate streamflow at gages (pois)\n",
    "The following cell creates a map of the NHM subdomain model hydrofabric elements and displays monthly Kling-Gupta efficiency (KGE) values for parameter file gages as red (KGE<0.5), yellow (0.5<=KGE<0.7), and green (KGE>=0.7). The map is interactive, made with [folium](https://python-visualization.github.io/folium/v0.18.0/index.html) (see [README](./README.md) for basic map interactive functionality). Use the mouse to left-click on gage icons and display the gage id and gage name. Use the mouse to left-click on HRUs to display the headwater basin (HW) id. HW groupings of HRUs are important when interpreting parameter values and output variables. HRU parameters were grouped by HW and adjusted using a scaling factor during the byHW and byHWobs parts of NHM calibration ([Hay and others, 2023](https://pubs.usgs.gov/tm/06/b10/tm6b10.pdf)). During the byHW calibration part, statistical flow targets at HW outlets were used, and during the subsequent byHWobs part, streamflow obervations were used for selected HWs."
   ]
  },
  {
   "cell_type": "code",
   "execution_count": 4,
   "metadata": {},
   "outputs": [
    {
     "ename": "KeyError",
     "evalue": "'npoi_gages'",
     "output_type": "error",
     "traceback": [
      "\u001b[31m---------------------------------------------------------------------------\u001b[39m",
      "\u001b[31mKeyError\u001b[39m                                  Traceback (most recent call last)",
      "\u001b[32m~\\AppData\\Local\\Temp\\ipykernel_26296\\4290965939.py\u001b[39m in \u001b[36m?\u001b[39m\u001b[34m()\u001b[39m\n\u001b[32m----> \u001b[39m\u001b[32m1\u001b[39m map_file = make_streamflow_map(\n\u001b[32m      2\u001b[39m     out_dir,\n\u001b[32m      3\u001b[39m     plot_start_date,\n\u001b[32m      4\u001b[39m     plot_end_date,\n",
      "\u001b[32m~\\Desktop\\nhm-assist-main\\nhm_helpers\\map_template.py\u001b[39m in \u001b[36m?\u001b[39m\u001b[34m(out_dir, plot_start_date, plot_end_date, water_years, hru_gdf, poi_df, poi_id_sel, seg_gdf, html_maps_dir, subdomain, HW_basins_gdf, HW_basins, output_netcdf_filename)\u001b[39m\n\u001b[32m   2109\u001b[39m         water_years,\n\u001b[32m   2110\u001b[39m     )\n\u001b[32m   2111\u001b[39m \n\u001b[32m   2112\u001b[39m     \u001b[38;5;66;03m# Add monthly KGE to poi_df\u001b[39;00m\n\u001b[32m-> \u001b[39m\u001b[32m2113\u001b[39m     poi_df = calculate_monthly_kge_in_poi_df(\n\u001b[32m   2114\u001b[39m         obs,\n\u001b[32m   2115\u001b[39m         var_daily,\n\u001b[32m   2116\u001b[39m         poi_df,\n",
      "\u001b[32m~\\Desktop\\nhm-assist-main\\nhm_helpers\\output_plots.py\u001b[39m in \u001b[36m?\u001b[39m\u001b[34m(obs, var_daily, poi_df)\u001b[39m\n\u001b[32m    947\u001b[39m         ).to_dataframe()\n\u001b[32m    948\u001b[39m         df_sf_data_sel.drop(columns=[\u001b[33m\"poi_id\"\u001b[39m], inplace=\u001b[38;5;28;01mTrue\u001b[39;00m)  \u001b[38;5;66;03m# drop unwanted columns\u001b[39;00m\n\u001b[32m    949\u001b[39m \n\u001b[32m    950\u001b[39m         sim_flow = (\n\u001b[32m--> \u001b[39m\u001b[32m951\u001b[39m             var_daily.sel(npoi_gages=i, time=slice(por_start, por_end))\n\u001b[32m    952\u001b[39m         ).to_dataframe()\n\u001b[32m    953\u001b[39m         sim_flow.drop(columns=[\u001b[33m\"npoi_gages\"\u001b[39m], inplace=\u001b[38;5;28;01mTrue\u001b[39;00m)  \u001b[38;5;66;03m# drop unwanted columns\u001b[39;00m\n\u001b[32m    954\u001b[39m \n",
      "\u001b[32m~\\miniforge3\\envs\\nhm\\Lib\\site-packages\\xarray\\core\\dataarray.py\u001b[39m in \u001b[36m?\u001b[39m\u001b[34m(self, indexers, method, tolerance, drop, **indexers_kwargs)\u001b[39m\n\u001b[32m   1678\u001b[39m             x        (points) int64 \u001b[32m40\u001b[39mB \u001b[32m0\u001b[39m \u001b[32m1\u001b[39m \u001b[32m2\u001b[39m \u001b[32m3\u001b[39m \u001b[32m4\u001b[39m\n\u001b[32m   1679\u001b[39m             y        (points) int64 \u001b[32m40\u001b[39mB \u001b[32m0\u001b[39m \u001b[32m1\u001b[39m \u001b[32m2\u001b[39m \u001b[32m3\u001b[39m \u001b[32m4\u001b[39m\n\u001b[32m   1680\u001b[39m         Dimensions without coordinates: points\n\u001b[32m   1681\u001b[39m         \"\"\"\n\u001b[32m-> \u001b[39m\u001b[32m1682\u001b[39m         ds = self._to_temp_dataset().sel(\n\u001b[32m   1683\u001b[39m             indexers=indexers,\n\u001b[32m   1684\u001b[39m             drop=drop,\n\u001b[32m   1685\u001b[39m             method=method,\n",
      "\u001b[32m~\\miniforge3\\envs\\nhm\\Lib\\site-packages\\xarray\\core\\dataset.py\u001b[39m in \u001b[36m?\u001b[39m\u001b[34m(self, indexers, method, tolerance, drop, **indexers_kwargs)\u001b[39m\n\u001b[32m   2900\u001b[39m                     \u001b[38;5;28;01mif\u001b[39;00m k \u001b[38;5;28;01min\u001b[39;00m self._coord_names:\n\u001b[32m   2901\u001b[39m                         query_results.drop_coords.append(k)\n\u001b[32m   2902\u001b[39m             query_results.variables = no_scalar_variables\n\u001b[32m   2903\u001b[39m \n\u001b[32m-> \u001b[39m\u001b[32m2904\u001b[39m         result = self.isel(indexers=query_results.dim_indexers, drop=drop)\n\u001b[32m   2905\u001b[39m         \u001b[38;5;28;01mreturn\u001b[39;00m result._overwrite_indexes(*query_results.as_tuple()[\u001b[32m1\u001b[39m:])\n",
      "\u001b[32m~\\miniforge3\\envs\\nhm\\Lib\\site-packages\\xarray\\core\\dataset.py\u001b[39m in \u001b[36m?\u001b[39m\u001b[34m(self, indexers, drop, missing_dims, **indexers_kwargs)\u001b[39m\n\u001b[32m   2733\u001b[39m \n\u001b[32m   2734\u001b[39m         \"\"\"\n\u001b[32m   2735\u001b[39m         indexers = either_dict_or_kwargs(indexers, indexers_kwargs, \u001b[33m\"isel\"\u001b[39m)\n\u001b[32m   2736\u001b[39m         \u001b[38;5;28;01mif\u001b[39;00m any(is_fancy_indexer(idx) \u001b[38;5;28;01mfor\u001b[39;00m idx \u001b[38;5;28;01min\u001b[39;00m indexers.values()):\n\u001b[32m-> \u001b[39m\u001b[32m2737\u001b[39m             \u001b[38;5;28;01mreturn\u001b[39;00m self._isel_fancy(indexers, drop=drop, missing_dims=missing_dims)\n\u001b[32m   2738\u001b[39m \n\u001b[32m   2739\u001b[39m         \u001b[38;5;66;03m# Much faster algorithm for when all indexers are ints, slices, one-dimensional\u001b[39;00m\n\u001b[32m   2740\u001b[39m         \u001b[38;5;66;03m# lists, or zero or one-dimensional np.ndarray's\u001b[39;00m\n",
      "\u001b[32m~\\miniforge3\\envs\\nhm\\Lib\\site-packages\\xarray\\core\\dataset.py\u001b[39m in \u001b[36m?\u001b[39m\u001b[34m(self, indexers, drop, missing_dims)\u001b[39m\n\u001b[32m   2776\u001b[39m         *,\n\u001b[32m   2777\u001b[39m         drop: bool,\n\u001b[32m   2778\u001b[39m         missing_dims: ErrorOptionsWithWarn = \u001b[33m\"raise\"\u001b[39m,\n\u001b[32m   2779\u001b[39m     ) -> Self:\n\u001b[32m-> \u001b[39m\u001b[32m2780\u001b[39m         valid_indexers = dict(self._validate_indexers(indexers, missing_dims))\n\u001b[32m   2781\u001b[39m \n\u001b[32m   2782\u001b[39m         variables: dict[Hashable, Variable] = {}\n\u001b[32m   2783\u001b[39m         indexes, index_variables = isel_indexes(self.xindexes, valid_indexers)\n",
      "\u001b[32m~\\miniforge3\\envs\\nhm\\Lib\\site-packages\\xarray\\core\\dataset.py\u001b[39m in \u001b[36m?\u001b[39m\u001b[34m(self, indexers, missing_dims)\u001b[39m\n\u001b[32m   2549\u001b[39m                 \u001b[38;5;28;01mif\u001b[39;00m \u001b[38;5;28;01mnot\u001b[39;00m is_duck_array(v):\n\u001b[32m   2550\u001b[39m                     v = np.asarray(v)\n\u001b[32m   2551\u001b[39m \n\u001b[32m   2552\u001b[39m                 \u001b[38;5;28;01mif\u001b[39;00m v.dtype.kind \u001b[38;5;28;01min\u001b[39;00m \u001b[33m\"US\"\u001b[39m:\n\u001b[32m-> \u001b[39m\u001b[32m2553\u001b[39m                     index = self._indexes[k].to_pandas_index()\n\u001b[32m   2554\u001b[39m                     \u001b[38;5;28;01mif\u001b[39;00m isinstance(index, pd.DatetimeIndex):\n\u001b[32m   2555\u001b[39m                         v = duck_array_ops.astype(v, dtype=\u001b[33m\"datetime64[ns]\"\u001b[39m)\n\u001b[32m   2556\u001b[39m                     \u001b[38;5;28;01melif\u001b[39;00m isinstance(index, CFTimeIndex):\n",
      "\u001b[31mKeyError\u001b[39m: 'npoi_gages'"
     ]
    }
   ],
   "source": [
    "map_file = make_streamflow_map(\n",
    "    out_dir,\n",
    "    plot_start_date,\n",
    "    plot_end_date,\n",
    "    water_years,\n",
    "    hru_gdf,\n",
    "    poi_df,\n",
    "    poi_id_sel,\n",
    "    seg_gdf,\n",
    "    html_maps_dir,\n",
    "    subdomain,\n",
    "    HW_basins_gdf,\n",
    "    HW_basins,\n",
    "    output_netcdf_filename,\n",
    ")"
   ]
  },
  {
   "cell_type": "code",
   "execution_count": 8,
   "metadata": {},
   "outputs": [
    {
     "data": {
      "text/html": [
       "<pre style=\"white-space:pre;overflow-x:auto;line-height:normal;font-family:Menlo,'DejaVu Sans Mono',consolas,'Courier New',monospace\"></pre>\n"
      ],
      "text/plain": []
     },
     "metadata": {},
     "output_type": "display_data"
    },
    {
     "data": {
      "text/html": [
       "<div>\n",
       "<style scoped>\n",
       "    .dataframe tbody tr th:only-of-type {\n",
       "        vertical-align: middle;\n",
       "    }\n",
       "\n",
       "    .dataframe tbody tr th {\n",
       "        vertical-align: top;\n",
       "    }\n",
       "\n",
       "    .dataframe thead th {\n",
       "        text-align: right;\n",
       "    }\n",
       "</style>\n",
       "<table border=\"1\" class=\"dataframe\">\n",
       "  <thead>\n",
       "    <tr style=\"text-align: right;\">\n",
       "      <th></th>\n",
       "      <th>poi_id</th>\n",
       "      <th>poi_gage_segment</th>\n",
       "      <th>poi_type</th>\n",
       "      <th>nhm_seg</th>\n",
       "      <th>poi_agency</th>\n",
       "      <th>poi_name</th>\n",
       "      <th>latitude</th>\n",
       "      <th>longitude</th>\n",
       "      <th>drainage_area</th>\n",
       "      <th>drainage_area_contrib</th>\n",
       "      <th>nhm_calib</th>\n",
       "    </tr>\n",
       "  </thead>\n",
       "  <tbody>\n",
       "    <tr>\n",
       "      <th>0</th>\n",
       "      <td>14018500</td>\n",
       "      <td>1</td>\n",
       "      <td>1</td>\n",
       "      <td>49698</td>\n",
       "      <td>USGS</td>\n",
       "      <td>WALLA WALLA RIVER NEAR TOUCHET, WA</td>\n",
       "      <td>46.027609</td>\n",
       "      <td>-118.729689</td>\n",
       "      <td>1657.0</td>\n",
       "      <td>NaN</td>\n",
       "      <td>N</td>\n",
       "    </tr>\n",
       "    <tr>\n",
       "      <th>1</th>\n",
       "      <td>14010000</td>\n",
       "      <td>11</td>\n",
       "      <td>1</td>\n",
       "      <td>49708</td>\n",
       "      <td>USGS</td>\n",
       "      <td>SOUTH FORK WALLA WALLA RIVER NEAR MILTON,OREG.</td>\n",
       "      <td>45.829857</td>\n",
       "      <td>-118.169950</td>\n",
       "      <td>63.0</td>\n",
       "      <td>NaN</td>\n",
       "      <td>N</td>\n",
       "    </tr>\n",
       "    <tr>\n",
       "      <th>2</th>\n",
       "      <td>14010800</td>\n",
       "      <td>13</td>\n",
       "      <td>0</td>\n",
       "      <td>49710</td>\n",
       "      <td>USGS</td>\n",
       "      <td>NORTH FRK WALLA WALLA RIVER NR MILTON FREEWATE...</td>\n",
       "      <td>45.884580</td>\n",
       "      <td>-118.202731</td>\n",
       "      <td>34.4</td>\n",
       "      <td>NaN</td>\n",
       "      <td>N</td>\n",
       "    </tr>\n",
       "    <tr>\n",
       "      <th>3</th>\n",
       "      <td>14015000</td>\n",
       "      <td>16</td>\n",
       "      <td>1</td>\n",
       "      <td>49713</td>\n",
       "      <td>USGS</td>\n",
       "      <td>MILL CREEK AT WALLA WALLA, WA</td>\n",
       "      <td>46.076248</td>\n",
       "      <td>-118.273572</td>\n",
       "      <td>95.7</td>\n",
       "      <td>NaN</td>\n",
       "      <td>Y</td>\n",
       "    </tr>\n",
       "    <tr>\n",
       "      <th>4</th>\n",
       "      <td>14013700</td>\n",
       "      <td>17</td>\n",
       "      <td>1</td>\n",
       "      <td>49714</td>\n",
       "      <td>USGS</td>\n",
       "      <td>MILL CREEK AT FIVE MILE RD BR NR WALLA WALLA, WA</td>\n",
       "      <td>46.085693</td>\n",
       "      <td>-118.228291</td>\n",
       "      <td>92.7</td>\n",
       "      <td>NaN</td>\n",
       "      <td>N</td>\n",
       "    </tr>\n",
       "    <tr>\n",
       "      <th>5</th>\n",
       "      <td>14013000</td>\n",
       "      <td>19</td>\n",
       "      <td>1</td>\n",
       "      <td>49716</td>\n",
       "      <td>USGS</td>\n",
       "      <td>MILL CREEK NEAR WALLA WALLA, WA</td>\n",
       "      <td>46.007893</td>\n",
       "      <td>-118.118559</td>\n",
       "      <td>59.6</td>\n",
       "      <td>NaN</td>\n",
       "      <td>Y</td>\n",
       "    </tr>\n",
       "    <tr>\n",
       "      <th>6</th>\n",
       "      <td>14017000</td>\n",
       "      <td>29</td>\n",
       "      <td>1</td>\n",
       "      <td>49726</td>\n",
       "      <td>USGS</td>\n",
       "      <td>TOUCHET RIVER AT BOLLES, WA</td>\n",
       "      <td>46.274307</td>\n",
       "      <td>-118.221904</td>\n",
       "      <td>361.0</td>\n",
       "      <td>NaN</td>\n",
       "      <td>N</td>\n",
       "    </tr>\n",
       "    <tr>\n",
       "      <th>7</th>\n",
       "      <td>14013500</td>\n",
       "      <td>39</td>\n",
       "      <td>1</td>\n",
       "      <td>49736</td>\n",
       "      <td>USGS</td>\n",
       "      <td>BLUE CREEK NEAR WALLA WALLA, WA</td>\n",
       "      <td>46.057638</td>\n",
       "      <td>-118.140228</td>\n",
       "      <td>17.0</td>\n",
       "      <td>NaN</td>\n",
       "      <td>N</td>\n",
       "    </tr>\n",
       "  </tbody>\n",
       "</table>\n",
       "</div>"
      ],
      "text/plain": [
       "\n",
       "     poi_id  poi_gage_segment  poi_type  nhm_seg poi_agency  \\\n",
       "\u001b[1;36m0\u001b[0m  \u001b[1;36m14018500\u001b[0m                 \u001b[1;36m1\u001b[0m         \u001b[1;36m1\u001b[0m    \u001b[1;36m49698\u001b[0m       USGS   \n",
       "\u001b[1;36m1\u001b[0m  \u001b[1;36m14010000\u001b[0m                \u001b[1;36m11\u001b[0m         \u001b[1;36m1\u001b[0m    \u001b[1;36m49708\u001b[0m       USGS   \n",
       "\u001b[1;36m2\u001b[0m  \u001b[1;36m14010800\u001b[0m                \u001b[1;36m13\u001b[0m         \u001b[1;36m0\u001b[0m    \u001b[1;36m49710\u001b[0m       USGS   \n",
       "\u001b[1;36m3\u001b[0m  \u001b[1;36m14015000\u001b[0m                \u001b[1;36m16\u001b[0m         \u001b[1;36m1\u001b[0m    \u001b[1;36m49713\u001b[0m       USGS   \n",
       "\u001b[1;36m4\u001b[0m  \u001b[1;36m14013700\u001b[0m                \u001b[1;36m17\u001b[0m         \u001b[1;36m1\u001b[0m    \u001b[1;36m49714\u001b[0m       USGS   \n",
       "\u001b[1;36m5\u001b[0m  \u001b[1;36m14013000\u001b[0m                \u001b[1;36m19\u001b[0m         \u001b[1;36m1\u001b[0m    \u001b[1;36m49716\u001b[0m       USGS   \n",
       "\u001b[1;36m6\u001b[0m  \u001b[1;36m14017000\u001b[0m                \u001b[1;36m29\u001b[0m         \u001b[1;36m1\u001b[0m    \u001b[1;36m49726\u001b[0m       USGS   \n",
       "\u001b[1;36m7\u001b[0m  \u001b[1;36m14013500\u001b[0m                \u001b[1;36m39\u001b[0m         \u001b[1;36m1\u001b[0m    \u001b[1;36m49736\u001b[0m       USGS   \n",
       "\n",
       "                                            poi_name   latitude   longitude  \\\n",
       "\u001b[1;36m0\u001b[0m                 WALLA WALLA RIVER NEAR TOUCHET, WA  \u001b[1;36m46.027609\u001b[0m \u001b[1;36m-118.729689\u001b[0m   \n",
       "\u001b[1;36m1\u001b[0m     SOUTH FORK WALLA WALLA RIVER NEAR MILTON,OREG.  \u001b[1;36m45.829857\u001b[0m \u001b[1;36m-118.169950\u001b[0m   \n",
       "\u001b[1;36m2\u001b[0m  NORTH FRK WALLA WALLA RIVER NR MILTON FREEWATE\u001b[33m...\u001b[0m  \u001b[1;36m45.884580\u001b[0m \u001b[1;36m-118.202731\u001b[0m   \n",
       "\u001b[1;36m3\u001b[0m                      MILL CREEK AT WALLA WALLA, WA  \u001b[1;36m46.076248\u001b[0m \u001b[1;36m-118.273572\u001b[0m   \n",
       "\u001b[1;36m4\u001b[0m   MILL CREEK AT FIVE MILE RD BR NR WALLA WALLA, WA  \u001b[1;36m46.085693\u001b[0m \u001b[1;36m-118.228291\u001b[0m   \n",
       "\u001b[1;36m5\u001b[0m                    MILL CREEK NEAR WALLA WALLA, WA  \u001b[1;36m46.007893\u001b[0m \u001b[1;36m-118.118559\u001b[0m   \n",
       "\u001b[1;36m6\u001b[0m                        TOUCHET RIVER AT BOLLES, WA  \u001b[1;36m46.274307\u001b[0m \u001b[1;36m-118.221904\u001b[0m   \n",
       "\u001b[1;36m7\u001b[0m                    BLUE CREEK NEAR WALLA WALLA, WA  \u001b[1;36m46.057638\u001b[0m \u001b[1;36m-118.140228\u001b[0m   \n",
       "\n",
       "   drainage_area  drainage_area_contrib nhm_calib  \n",
       "\u001b[1;36m0\u001b[0m         \u001b[1;36m1657.0\u001b[0m                    NaN         N  \n",
       "\u001b[1;36m1\u001b[0m           \u001b[1;36m63.0\u001b[0m                    NaN         N  \n",
       "\u001b[1;36m2\u001b[0m           \u001b[1;36m34.4\u001b[0m                    NaN         N  \n",
       "\u001b[1;36m3\u001b[0m           \u001b[1;36m95.7\u001b[0m                    NaN         Y  \n",
       "\u001b[1;36m4\u001b[0m           \u001b[1;36m92.7\u001b[0m                    NaN         N  \n",
       "\u001b[1;36m5\u001b[0m           \u001b[1;36m59.6\u001b[0m                    NaN         Y  \n",
       "\u001b[1;36m6\u001b[0m          \u001b[1;36m361.0\u001b[0m                    NaN         N  \n",
       "\u001b[1;36m7\u001b[0m           \u001b[1;36m17.0\u001b[0m                    NaN         N  "
      ]
     },
     "execution_count": 8,
     "metadata": {},
     "output_type": "execute_result"
    }
   ],
   "source": [
    "poi_df"
   ]
  },
  {
   "cell_type": "code",
   "execution_count": 11,
   "metadata": {},
   "outputs": [
    {
     "data": {
      "application/vnd.jupyter.widget-view+json": {
       "model_id": "46908055a7904ec3aa1c9f7724e33de5",
       "version_major": 2,
       "version_minor": 0
      },
      "text/plain": [
       "VBox(children=(HBox(children=(Text(value='', description='Streamgage ID:', layout=Layout(width='40%'), placeho…"
      ]
     },
     "metadata": {},
     "output_type": "display_data"
    }
   ],
   "source": [
    "%matplotlib inline\n",
    "import ipywidgets as widgets\n",
    "from IPython.display import display, clear_output, IFrame\n",
    "\n",
    "# ─── 1. Define widgets ───────────────────────────────────────────────────\n",
    "gage_txt = widgets.Text(\n",
    "    description=\"Streamgage ID:\",\n",
    "    placeholder=\"(optional) Enter gage id\",\n",
    "    layout=widgets.Layout(width=\"40%\"),\n",
    "    style={\"description_width\": \"initial\"},\n",
    ")\n",
    "\n",
    "btn_plot = widgets.Button(\n",
    "    description=\"Generate Plot\",\n",
    "    button_style=\"primary\",\n",
    ")\n",
    "\n",
    "btn_map = widgets.Button(\n",
    "    description=\"Generate Map\",\n",
    "    button_style=\"primary\",\n",
    ")\n",
    "\n",
    "controls = widgets.HBox([gage_txt, btn_plot, btn_map])\n",
    "\n",
    "# ─── 2. Output areas ─────────────────────────────────────────────────────\n",
    "plot_out = widgets.Output()\n",
    "map_out = widgets.Output()\n",
    "\n",
    "\n",
    "# ─── 3. Callback functions ───────────────────────────────────────────────\n",
    "def on_plot_clicked(b: widgets.Button) -> None:\n",
    "    \"\"\"\n",
    "    When clicked, clear previous plot, default to first POI if none entered,\n",
    "    then generate and display the streamflow plot.\n",
    "    \"\"\"\n",
    "    with plot_out:\n",
    "        clear_output(wait=True)\n",
    "        poi_id_sel = gage_txt.value.strip() or poi_df.poi_id.tolist()[0]\n",
    "        fplot = create_streamflow_plot(\n",
    "            poi_id_sel,\n",
    "            plot_start_date,\n",
    "            plot_end_date,\n",
    "            water_years,\n",
    "            html_plots_dir,\n",
    "            output_netcdf_filename,\n",
    "            out_dir,\n",
    "            subdomain,\n",
    "        )\n",
    "        display(fplot)\n",
    "\n",
    "\n",
    "def on_map_clicked(b: widgets.Button) -> None:\n",
    "    \"\"\"\n",
    "    When clicked, clear previous map, default to first POI if none entered,\n",
    "    then generate and display the streamflow map.\n",
    "    \"\"\"\n",
    "    with map_out:\n",
    "        clear_output(wait=True)\n",
    "        poi_id_sel = gage_txt.value.strip() or poi_df.poi_id.tolist()[0]\n",
    "        map_file = make_streamflow_map(\n",
    "            out_dir,\n",
    "            plot_start_date,\n",
    "            plot_end_date,\n",
    "            water_years,\n",
    "            hru_gdf,\n",
    "            poi_df,\n",
    "            poi_id_sel,\n",
    "            seg_gdf,\n",
    "            html_maps_dir,\n",
    "            subdomain,\n",
    "            HW_basins_gdf,\n",
    "            HW_basins,\n",
    "            output_netcdf_filename,\n",
    "        )\n",
    "        if isinstance(map_file, str):\n",
    "            display(IFrame(src=map_file, width=\"100%\", height=\"500px\"))\n",
    "        else:\n",
    "            display(map_file)\n",
    "\n",
    "\n",
    "# ─── 4. Wire up buttons ─────────────────────────────────────────────────\n",
    "btn_plot.on_click(on_plot_clicked)\n",
    "btn_map.on_click(on_map_clicked)\n",
    "\n",
    "# ─── 5. Display everything ───────────────────────────────────────────────\n",
    "display(widgets.VBox([controls, plot_out, map_out]))"
   ]
  },
  {
   "cell_type": "markdown",
   "metadata": {},
   "source": [
    "## Make an interactive plot of simulated and observed streamflow and table of streamflow statistics for selected gage\n",
    "This plot is interactive, and made with [plotly](https://plotly.com/) (see [README](./README.md) for basic plot interactive functionality), and shows subplots of simulated and observed streamflow at daily, monthly, and annual timesteps for the selected gage. Note: the date that appears in popup window when hovering over plotted data reflects the last day of the timestep displayed in the plot. A flow exceedance curve and table of summary statistics is also provided in the plot for streamflow evaluation purposes. "
   ]
  },
  {
   "cell_type": "markdown",
   "metadata": {},
   "source": [
    "## Select a gage to evaluate simulated and observed streamflow time-series and streamflow statistics\n",
    "<font size=4> &#x270D;<font color='green'>**Enter Information:**</font> **Run the cell below. In the resulting drop-down box, select a gage. A plot will be created to evaluate observed and simulated streamflow at the selected gage.** </font><br>\n",
    "<font size=3> If no gage is selected (default), the first gage listed in the parameter file will be used. The drop-down box selection can be changed and additional plots will be displayed and exported (html files) to<br> `<NHM subdomain model folder>/notebook_output_files/html_plots`."
   ]
  },
  {
   "cell_type": "code",
   "execution_count": 10,
   "metadata": {},
   "outputs": [
    {
     "data": {
      "application/vnd.jupyter.widget-view+json": {
       "model_id": "359cdf37eb91400c931d25e7c5dbc0a7",
       "version_major": 2,
       "version_minor": 0
      },
      "text/plain": [
       "VBox(children=(HBox(children=(Text(value='', description='Streamgage ID:', layout=Layout(width='40%'), placeho…"
      ]
     },
     "metadata": {},
     "output_type": "display_data"
    }
   ],
   "source": [
    "display(widgets.VBox([controls, plot_out, map_out]))"
   ]
  },
  {
   "cell_type": "code",
   "execution_count": null,
   "metadata": {},
   "outputs": [],
   "source": []
  },
  {
   "cell_type": "code",
   "execution_count": null,
   "metadata": {},
   "outputs": [],
   "source": []
  }
 ],
 "metadata": {
  "kernelspec": {
   "display_name": "Python 3 (ipykernel)",
   "language": "python",
   "name": "python3"
  },
  "language_info": {
   "codemirror_mode": {
    "name": "ipython",
    "version": 3
   },
   "file_extension": ".py",
   "mimetype": "text/x-python",
   "name": "python",
   "nbconvert_exporter": "python",
   "pygments_lexer": "ipython3",
   "version": "3.11.13"
  }
 },
 "nbformat": 4,
 "nbformat_minor": 4
}
