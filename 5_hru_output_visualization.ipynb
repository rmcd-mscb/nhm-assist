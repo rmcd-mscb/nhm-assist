{
 "cells": [
  {
   "cell_type": "code",
   "execution_count": 1,
   "metadata": {},
   "outputs": [],
   "source": [
    "%run \"0_workspace_setup.ipynb\""
   ]
  },
  {
   "cell_type": "code",
   "execution_count": 2,
   "metadata": {},
   "outputs": [],
   "source": [
    "from ipywidgets import widgets\n",
    "from IPython.display import display\n",
    "from nhm_helpers.map_template import make_var_map\n",
    "from nhm_helpers.nhm_hydrofabric import make_hf_map_elements\n",
    "from nhm_helpers.nhm_output_visualization import retrieve_hru_output_info\n",
    "from ipywidgets import HBox, VBox, Button\n",
    "from nhm_helpers.display_controls import *\n",
    "from nhm_helpers.output_plots import plot_colors\n",
    "from nhm_helpers.output_plots import (\n",
    "    var_colors_dict,\n",
    "    leg_only_dict,\n",
    "    make_plot_var_for_hrus_in_poi_basin,\n",
    "    oopla,\n",
    ")\n",
    "\n",
    "poi_id_sel = None"
   ]
  },
  {
   "cell_type": "markdown",
   "metadata": {},
   "source": [
    "## Introduction\n",
    "This notebook maps the selected HRU output variable's values and displays in a new browser tab. The list of output variables are user-specified (`selected_output_variables` in [notebook 0](.\\0_Workspace_setup.ipynb)). A gage id can be selected and two plots created. The first plot will show a time-series of all HRU values in the selected gage's catchment. The second plot will show a time-series of all HRU output variables averaged for the selected gage's catchment. Both plots will be displayed in a new browser tab. Additionally, maps and plots produced are saved for use outside of notebooks as .html files in the `html_maps` and `html_plots` folders in the `notebook_output` folder.\n",
    "\n",
    "The cell below reads the NHM subdomain model hydrofabric elements for mapping purposes using `make_hf_map_elements()`, retrieves `pywatershed` output file information for mapping and plotting using `retrieve_hru_output_info()`, and writes general NHM subdomain model run and hydrofabric information."
   ]
  },
  {
   "cell_type": "code",
   "execution_count": 3,
   "metadata": {},
   "outputs": [
    {
     "data": {
      "text/html": [
       "<pre style=\"white-space:pre;overflow-x:auto;line-height:normal;font-family:Menlo,'DejaVu Sans Mono',consolas,'Courier New',monospace\">NHM model domain: <span style=\"color: #000000; text-decoration-color: #000000; font-weight: bold\">Walla_Walla</span>, parameter file: <span style=\"color: #000000; text-decoration-color: #000000; font-weight: bold\">myparam.param</span>\n",
       "Simulation and observation data range: <span style=\"color: #008080; text-decoration-color: #008080; font-weight: bold\">01</span>/<span style=\"color: #008080; text-decoration-color: #008080; font-weight: bold\">01</span>/<span style=\"color: #008080; text-decoration-color: #008080; font-weight: bold\">2011</span> - <span style=\"color: #008080; text-decoration-color: #008080; font-weight: bold\">12</span>/<span style=\"color: #008080; text-decoration-color: #008080; font-weight: bold\">31</span>/<span style=\"color: #008080; text-decoration-color: #008080; font-weight: bold\">2022</span> <span style=\"font-weight: bold\">(</span>from <span style=\"font-weight: bold\">control.default.bandit)</span>.\n",
       " \n",
       "The parameter file contains <span style=\"color: #008080; text-decoration-color: #008080; font-weight: bold\">8</span> <span style=\"font-weight: bold\">gages</span> managed by USGS, <span style=\"color: #008080; text-decoration-color: #008080; font-weight: bold\">44</span> <span style=\"font-weight: bold\">segments</span>, and <span style=\"color: #008080; text-decoration-color: #008080; font-weight: bold\">87</span> <span style=\"font-weight: bold\">HRUs</span>. \n",
       "     <span style=\"color: #008080; text-decoration-color: #008080; font-weight: bold\">85</span> HRUs are within HWs, and <span style=\"color: #008080; text-decoration-color: #008080; font-weight: bold\">55</span> are within HW calibrated with streamflow observations.\n",
       "</pre>\n"
      ],
      "text/plain": [
       "NHM model domain: \u001b[1;30mWalla_Walla\u001b[0m, parameter file: \u001b[1;30mmyparam.param\u001b[0m\n",
       "Simulation and observation data range: \u001b[1;36m01\u001b[0m/\u001b[1;36m01\u001b[0m/\u001b[1;36m2011\u001b[0m - \u001b[1;36m12\u001b[0m/\u001b[1;36m31\u001b[0m/\u001b[1;36m2022\u001b[0m \u001b[1m(\u001b[0mfrom \u001b[1mcontrol.default.bandit\u001b[0m\u001b[1m)\u001b[0m.\n",
       " \n",
       "The parameter file contains \u001b[1;36m8\u001b[0m \u001b[1mgages\u001b[0m managed by USGS, \u001b[1;36m44\u001b[0m \u001b[1msegments\u001b[0m, and \u001b[1;36m87\u001b[0m \u001b[1mHRUs\u001b[0m. \n",
       "     \u001b[1;36m85\u001b[0m HRUs are within HWs, and \u001b[1;36m55\u001b[0m are within HW calibrated with streamflow observations.\n"
      ]
     },
     "metadata": {},
     "output_type": "display_data"
    }
   ],
   "source": [
    "(\n",
    "    hru_gdf,\n",
    "    hru_txt,\n",
    "    hru_cal_level_txt,\n",
    "    seg_gdf,\n",
    "    seg_txt,\n",
    "    nwis_gages_aoi,\n",
    "    poi_df,\n",
    "    gages_df,\n",
    "    gages_txt,\n",
    "    gages_txt_nb2,\n",
    "    HW_basins_gdf,\n",
    "    HW_basins,\n",
    ") = make_hf_map_elements(\n",
    "    NHM_dir,\n",
    "    model_dir,\n",
    "    GIS_format,\n",
    "    param_filename,\n",
    "    control_file_name,\n",
    "    nwis_gages_file,\n",
    "    gages_file,\n",
    "    default_gages_file,\n",
    "    nhru_params,\n",
    "    nhru_nmonths_params,\n",
    "    nwis_gage_nobs_min,\n",
    ")\n",
    "\n",
    "# Retrieve pywatershed output file information for mapping and plotting\n",
    "plot_start_date, plot_end_date, year_list, output_var_list = retrieve_hru_output_info(\n",
    "    out_dir,\n",
    "    water_years,\n",
    ")\n",
    "\n",
    "con.print(\n",
    "    f\"{workspace_txt}\\n\",\n",
    "    f\"\\n{gages_txt}{seg_txt}{hru_txt}\",\n",
    "    f\"\\n     {hru_cal_level_txt}\",\n",
    ")"
   ]
  },
  {
   "cell_type": "markdown",
   "metadata": {},
   "source": [
    "<font size=4> &#x270D;<font color='green'>**Enter Information:**</font> **Run the cell below. In the resulting drop-down boxes, select an HRU **output variable** and a **year** value to display in the map. You may also select a gage plots (optional). &#x270D;<font color='green'>**</font><br>\n",
    "<font size = '3'> The default is set to **recharge**, **mean_annual** with no gage selected, and the map will zoom to the model extent. If a gage number is selected here, the map will zoom to that location. Plots will also be rendered for the selected gage. If no gage is selected (default), the first gage listed in the parameter file will be used. All drop-down box selections can be changed and additional maps and plots will be created. Maps will be displayed and exported (HTML files) to `<NHM subdomain model folder>/notebook_output_files/html_maps`. Plots will be displayed and exported (HTML files) to `<NHM subdomain model folder>/notebook_output_files/html_plots`."
   ]
  },
  {
   "cell_type": "code",
   "execution_count": null,
   "metadata": {},
   "outputs": [
    {
     "data": {
      "application/vnd.jupyter.widget-view+json": {
       "model_id": "3da7eed654694a8dbfecb076473096b6",
       "version_major": 2,
       "version_minor": 0
      },
      "text/plain": [
       "VBox(children=(Dropdown(description='Output variable:', index=8, layout=Layout(width='25%'), options=('gwres_f…"
      ]
     },
     "metadata": {},
     "output_type": "display_data"
    }
   ],
   "source": [
    "%matplotlib inline\n",
    "import ipywidgets as widgets\n",
    "from ipywidgets import HBox, VBox, Button\n",
    "from IPython.display import display, IFrame, clear_output\n",
    "\n",
    "# Style settings\n",
    "style_var = {\"description_width\": \"initial\"}\n",
    "layout = widgets.Layout(width=\"25%\")\n",
    "\n",
    "# Variable selector\n",
    "v = widgets.Dropdown(\n",
    "    options=output_var_list,\n",
    "    value=output_var_list[8],\n",
    "    description=\"Output variable:\",\n",
    "    layout=layout,\n",
    "    style=style_var,\n",
    ")\n",
    "\n",
    "# Year selector\n",
    "years = year_list.copy() + [\"mean_annual\"]\n",
    "yr = widgets.Dropdown(\n",
    "    options=years,\n",
    "    value=years[-1],\n",
    "    description=\"Time step (year):\",\n",
    "    layout=layout,\n",
    "    style=style_var,\n",
    ")\n",
    "\n",
    "# Gage combobox\n",
    "v2 = widgets.Combobox(\n",
    "    options=poi_df.poi_id.tolist(),\n",
    "    placeholder=\"(optional) Enter gage id\",\n",
    "    description=\"Zoom to gage:\",\n",
    "    ensure_option=True,\n",
    "    disabled=False,\n",
    "    layout=layout,\n",
    "    style=style_var,\n",
    ")\n",
    "\n",
    "# Checkboxes for plot types\n",
    "cb_map = widgets.Checkbox(value=False, description=\"Include Map\")\n",
    "cb_summary = widgets.Checkbox(value=False, description=\"Include Summary Time Series\")\n",
    "cb_flux = widgets.Checkbox(value=False, description=\"Include Flux Time S\")\n",
    "plot_checks = HBox([cb_map, cb_summary, cb_flux])\n",
    "\n",
    "# Generate button\n",
    "btn_generate = Button(description=\"Show Plots\", button_style=\"primary\")\n",
    "\n",
    "# Output areas\n",
    "out_map = widgets.Output()\n",
    "out_summary = widgets.Output()\n",
    "out_flux = widgets.Output()\n",
    "\n",
    "# Button Click and Display\n",
    "btn_generate.on_click(on_generate_clicked)\n",
    "# display(VBox([v, yr, v2, plot_checks, btn_generate, out_map, out_summary, out_flux]))"
   ]
  },
  {
   "cell_type": "markdown",
   "metadata": {},
   "source": [
    "## Make interactive map of selected output variable values in the NHM subdomain\n",
    "The following cell creates an interactive folium.map that displays an annual values of all HRUs in the NHM subdomain for a selected output variable. Additionally, variable values for each HRU and additional HRU information can be viewed by left-clicking on HRUs. Maps produced are saved for use outside of notebooks as .html files in `./\"subdomain model\"/notebook_output/html_maps`."
   ]
  },
  {
   "cell_type": "code",
   "execution_count": 13,
   "metadata": {},
   "outputs": [
    {
     "data": {
      "application/vnd.jupyter.widget-view+json": {
       "model_id": "7f3798322adb4e90908453dfbedab113",
       "version_major": 2,
       "version_minor": 0
      },
      "text/plain": [
       "VBox(children=(Dropdown(description='Output variable:', index=8, layout=Layout(width='25%'), options=('gwres_f…"
      ]
     },
     "metadata": {},
     "output_type": "display_data"
    }
   ],
   "source": [
    "display(VBox([v, yr, v2, plot_checks, btn_generate, out_map, out_summary, out_flux]))"
   ]
  },
  {
   "cell_type": "markdown",
   "metadata": {},
   "source": [
    "## Create an interactive time-series plot to evaluate an NHM output variable for poi basin.\n",
    "The following cell creates a plot for the output variable selected in this notebook that shows a cumulative value for the selected poi basin at the annual, monthly, and daily time steps. Individual poi basin HRU contributions can also be compared to the poi basin values. The plot is interactive and can be saved using the widgets in the upper right-hand corner of the plot. Plots produced are saved for use outside of notebooks as .html files in `./\"subdomain model\"/notebook_output/html_plots`."
   ]
  }
 ],
 "metadata": {
  "kernelspec": {
   "display_name": "Python 3 (ipykernel)",
   "language": "python",
   "name": "python3"
  },
  "language_info": {
   "codemirror_mode": {
    "name": "ipython",
    "version": 3
   },
   "file_extension": ".py",
   "mimetype": "text/x-python",
   "name": "python",
   "nbconvert_exporter": "python",
   "pygments_lexer": "ipython3",
   "version": "3.11.13"
  }
 },
 "nbformat": 4,
 "nbformat_minor": 4
}
