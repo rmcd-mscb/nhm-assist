{
 "cells": [
  {
   "cell_type": "code",
   "execution_count": null,
   "id": "8877dfde-c82e-43f3-b348-6cca48983457",
   "metadata": {},
   "outputs": [],
   "source": [
    "import warnings\n",
    "import pandas as pd\n",
    "import pathlib as pl\n",
    "from pyPRMS.metadata.metadata import MetaData\n",
    "from pyPRMS import ParameterFile\n",
    "from contextlib import redirect_stdout\n",
    "import io\n",
    "f = io.StringIO()\n",
    "with redirect_stdout(f):\n",
    "    import pywatershed as pws\n",
    "from rich.console import Console\n",
    "from rich import pretty\n",
    "warnings.filterwarnings(\"ignore\")\n",
    "import jupyter_black\n",
    "pretty.install()\n",
    "con = Console()\n",
    "jupyter_black.load()"
   ]
  },
  {
   "cell_type": "markdown",
   "id": "851d845f-9086-4d43-8864-ffd1a2b4a398",
   "metadata": {},
   "source": [
    "## Introduction\n",
    "The purpose of this notebook is to setup paths and directories for all nhm-assist notebooks using a provided or requested National Hydrologic Model (NHM) subdomain model (`model_dir`) **Note: all nhm-assist output files, maps, and plots are saved to the subdomain model folder.**\n",
    "A sample NHM subdomain model is provided in nhm-assist `domain_data` folder for the Willamette River subdomain."
   ]
  },
  {
   "cell_type": "markdown",
   "id": "2772cab8-9c62-40bf-9f15-b12d289c22e6",
   "metadata": {},
   "source": [
    "### A National Hydrologic Model (NHM) subdomain model\n",
    "A NHM subdomain model is extracted from NHM domain (CONUS) using an automated workflow that generates a complete set of Preciptation Runoff Modeling System (PRMS) input files that contain the data and parameters required for a NHM-PRMS model [Regan and others, 2018](https://pubs.usgs.gov/publication/tm6B9). This tool is written in the [Python language](https://www.python.org) and is designed to be run from the command line on [USGS high-performance computing resources](https://www.usgs.gov/advanced-research-computing). At this time, users do not need to download this software and instead can request a subdomain model following these steps:\n",
    "\n",
    "1. Go to the web page [https://www.sciencebase.gov/catalog/item/5e29b87fe4b0a79317cf7df5](https://www.sciencebase.gov/catalog/item/5e29b87fe4b0a79317cf7df5)\n",
    "2. Click the child item titled, [“GIS Features of the Geospatial Fabric for the National Hydrologic Model, version 1.1.”](https://www.sciencebase.gov/catalog/item/5e29d1a0e4b0a79317cf7f63)\n",
    "3. Download attached files \"GFv1.1.gdb.zip\" and compare NHM segments to your area-of-interest.\n",
    "4. Send an email to pnorton@usgs.gov that includes the following:\n",
    "   * Name, Email address, Organization, and optionally, Phone;\n",
    "   * Using GFv1.1.gdb, include one or more national model segments (nhm_seg) associated with watershed outlet points in your area-of-interest.\n",
    "   * Include a short descriptive summary of your modeling application and **specify using `pywatershed`** with the NHM subdomain model.\n",
    "5. **Once you have received an NHM subdomain model, unzip and place the model folder in the nhm-assist `domain_data` folder.**"
   ]
  },
  {
   "cell_type": "markdown",
   "id": "53a99ab1-19f9-4fcf-b988-58610d3a6c34",
   "metadata": {},
   "source": [
    "### USGS NHM training (USGS personnel only)\n",
    "If you have been provided a NHM subdomain model, such as the example subdomain \"willamette_river\", it can be downloaded from the USGS [HyTEST](https://hytest-org.github.io/hytest/doc/About.html) OSN storage pod by following these steps.\n",
    "1. Open up a miniforge prompt.\n",
    "2. `cd` to the location of the cloned **nhm-assist** repository folder\n",
    "3. type `python pull_domain.py --name=willamette_river`"
   ]
  },
  {
   "cell_type": "markdown",
   "id": "9e39824e-674e-42cc-85e0-b031e01fb5c8",
   "metadata": {},
   "source": [
    "## Workspace Setup\n",
    "The default paths to subdomain model files are relative to the provided or requested NHM subdomain model folder (variable `model_dir`) placed, specifically, in the \"nhm-assist/domain_data\" folder. If the subdomain model folder is placed in a different location, then the `model_dir` path must be modified manually by the user to reflect that location. **Note: all nhm-assist output files, maps, and plots are saved to the subdomain model folder.**\n",
    "\n",
    "### The nhm-assist repository is designed to access critical supporting documents placed in 2 repository subfolders:\n",
    "\n",
    "1. The **data_dependencies** folder with needed supporting files \n",
    "    - **[HUC2](https://www.sciencebase.gov/catalog/item/6407a507d34e76f5f75e39ec)**\n",
    "    - **NHM-V1_1*** not included in the NHM v1.1 data release [(Markstrom and others, 2024).](https://www.sciencebase.gov/catalog/item/626c0d67d34e76103cd2ce4a)\n",
    "\n",
    "2. The **data_domain** folder contains the NHM subdomain model folder(s).\n",
    "    Any **NHM subdomain model folder** should contain:\n",
    "    - **control.default.bandit** (a control file)\n",
    "    - **myparam.param** (a parameter file)\n",
    "    - **sf_data.nc** (an optional streamflow observations file not used by nhm-assist)\n",
    "    - **cbh.nc** (an input data file)\n",
    "    - **GIS** folder containing\n",
    "        - **model_nhru.shp**\n",
    "        - **model_nsegment.shp**\n",
    "        - **model_npoigages.shp**\n",
    "        - and/or **model_layers.gpkg**\n",
    "\n",
    ">Note: If these file names have been changed, then the path names must be changes as well in this notebook (below)"
   ]
  },
  {
   "cell_type": "markdown",
   "id": "09ee46c8-1680-4bd0-ac0c-3af7017296f4",
   "metadata": {},
   "source": [
    "### The nhm-assist will create additional files and folders in NHM subdomain folder. These include:\n",
    "\n",
    "- **default_gages.csv**\n",
    "- **NWISgages.csv**\n",
    " - **tmin.nc**\n",
    "- **tmax.nc**\n",
    "- **prcp.nc**\n",
    "- **model_output** folder\n",
    "- **notebook_output_files** folder containing:\n",
    "    - **Folium_maps** folder\n",
    "    - **html_maps** folder\n",
    "    - **html_plots** folder\n",
    "    - **nc_files** folder\n",
    "\n",
    "**Note:** If subfolders do no exist, they will be created when needed.\n"
   ]
  },
  {
   "cell_type": "markdown",
   "id": "3cbeb8a3-9c45-428a-8bca-a29cd29741a7",
   "metadata": {},
   "source": [
    "## **User Provided Information**\n",
    "<font size=4>The user must provide and/or review information in the cells following <font color='green'>&#x270D;**Enter Information:**</font> prompts. "
   ]
  },
  {
   "cell_type": "markdown",
   "id": "70c72a14-a5a4-4e24-a27a-33a5214e6a12",
   "metadata": {},
   "source": [
    "<font size= '4'> &#x270D;<font color='green'>**Enter Information:** </font> **selected NHM domain folder name**.</font><br>\n",
    "<font size = '3'>The default is set to the example NHM subdomain model name, \"willamette_river\". Note: The default paths to subdomain model files are relative to the provided or requested NHM subdomain model folder (variable model_dir) placed, specifically, in the \"nhm-assist/domain_data\" folder. If the subdomain model folder is placed in a different location, then the model_dir path must be modified manually by the user to reflect that location. Note: all nhm-assist output files, maps, and plots are saved to the subdomain model folder.</font>"
   ]
  },
  {
   "cell_type": "code",
   "execution_count": null,
   "id": "f41f8f2f-4ab4-42eb-a934-8d6f7ec34edc",
   "metadata": {},
   "outputs": [],
   "source": [
    "subdomain = \"Walla_Walla\"\n",
    "\n",
    "model_dir = pl.Path(\"domain_data\").resolve() / subdomain"
   ]
  },
  {
   "cell_type": "markdown",
   "id": "4379b930-f577-4dc4-ac37-9165ecc43b64",
   "metadata": {},
   "source": [
    "<font size= '4'> &#x270D;<font color='green'>**Enter Information:** </font> **GIS file format**. </font><br>\n",
    "<font size = '3'>The default format is a geopackage (**.gpkg**) but other formats such as ESRI shape file (**.shp**) may have been provided."
   ]
  },
  {
   "cell_type": "code",
   "execution_count": null,
   "id": "8016abe2-e2d6-43a2-b0c8-1c1f42854be4",
   "metadata": {},
   "outputs": [],
   "source": [
    "GIS_format = \".gpkg\""
   ]
  },
  {
   "cell_type": "markdown",
   "id": "62b4feeb-df55-4bd4-8b8d-587a512c8823",
   "metadata": {},
   "source": [
    "<font size= '4'> &#x270D;<font color='green'>**Enter Information:** </font> **parameter file name**. </font><br>\n",
    "<font size = '3'> The default file name, **myparam.param**, is the name of the parameter file provided with NHM subdomain models. If another parameter file is desired or the name has been changed, modify `param_file` here:"
   ]
  },
  {
   "cell_type": "code",
   "execution_count": null,
   "id": "bcda903e-8e05-4f23-b503-075ac43d051f",
   "metadata": {},
   "outputs": [],
   "source": [
    "param_file = \"myparam.param\"\n",
    "#param_file = \"myparam_addl_gages.param\"\n",
    "param_filename = model_dir / param_file"
   ]
  },
  {
   "cell_type": "markdown",
   "id": "60fe15eb-a58d-43ec-af0f-cfce6a962830",
   "metadata": {},
   "source": [
    "<font size= '4'> &#x270D;<font color='green'>**Enter Information:** </font> **control file name**. </font><br>\n",
    "<font size = '3'> The default file name, **control.default.bandit** is the name of the control file provided with NHM subdomain models. If another control file is desired or the name has been changed, modify `control_file_name` here:"
   ]
  },
  {
   "cell_type": "code",
   "execution_count": null,
   "id": "c6248283-df2e-4650-a1e4-7867a2896116",
   "metadata": {},
   "outputs": [],
   "source": [
    "control_file_name = \"control.default.bandit\"\n",
    "\n",
    "control = pws.Control.load_prms(\n",
    "    model_dir / control_file_name, warn_unused_options=False\n",
    ")"
   ]
  },
  {
   "cell_type": "markdown",
   "id": "1e5fbd8f-7d88-49d6-bf14-ff62447935bf",
   "metadata": {},
   "source": [
    "<font size= '4'> &#x270D;<font color='green'>**Enter Information:** </font> **Minimum number of total streamflow observations (days) at a gage**.</font><br> \n",
    "<font size = '3'> Notebook 2 displays additional NWIS gages NOT listed the parameter file. `nwis_gage_nobs_min` is used to identify gages from NWIS that have a total number of daily stream observations >= `nwis_gage_nobs_min`."
   ]
  },
  {
   "cell_type": "code",
   "execution_count": null,
   "id": "1fabb12f-40f8-4082-ad80-252d978af7b6",
   "metadata": {},
   "outputs": [],
   "source": [
    "nwis_gage_nobs_min = 365  # days"
   ]
  },
  {
   "cell_type": "markdown",
   "id": "998729bc-5526-486c-af36-6b9dc1be315a",
   "metadata": {},
   "source": [
    "<font size= '4'> &#x270D;<font color='green'>**Enter Information:** </font> **List of parameters**.</font><br>\n",
    "<font size = '3'> Notebook 3 visualizes parameter values from the parameter file. Type the parameters you wish to visualize in the list(s) below. To view complete lists of parameters, copy/paste the functions below into a code block. The default parameters in the list below represent parameters calibrated during calibration of the NHM version 1.1. Calibrated values from NHM v 1.1 are displayed in Notebook 3 ([Markstrom and others, 2024](https://www.sciencebase.gov/catalog/item/626c0d67d34e76103cd2ce4a)). More information about NHM parameters can be found in [Markstrom and others, 2015](https://water.usgs.gov/water-resources/software/PRMS/PRMS_tables_5.2.1.pdf)\n",
    ">\n",
    "```\n",
    "from nhm_helpers.nhm_assist_utilities import bynhru_parameter_list, bynmonth_bynhru_parameter_list, bynsegment_parameter_list\n",
    "bynhru_parameter_list(param_filename)\n",
    "bynmonth_bynhru_parameter_list(param_filename)\n",
    "bynsegment_parameter_list(param_filename)\n",
    "```"
   ]
  },
  {
   "cell_type": "code",
   "execution_count": null,
   "id": "e8932cd8-fd5b-4559-8fd2-9be494f9c97c",
   "metadata": {},
   "outputs": [],
   "source": [
    "# List(s) of NHM calibration parameters with different dimensions\n",
    "nhru_params = [\n",
    "    \"carea_max\",\n",
    "    \"emis_noppt\",\n",
    "    \"fastcoef_lin\",\n",
    "    \"freeh2o_cap\",\n",
    "    \"gwflow_coef\",\n",
    "    \"potet_sublim\",\n",
    "    \"rad_trncf\",\n",
    "    \"slowcoef_sq\",\n",
    "    \"smidx_coef\",\n",
    "    \"smidx_exp\",\n",
    "    \"snowinfil_max\",\n",
    "    \"soil2gw_max\",\n",
    "    \"soil_moist_max\",\n",
    "    \"soil_rechr_max_frac\",\n",
    "    \"ssr2gw_exp\",\n",
    "    \"ssr2gw_rate\",\n",
    "]\n",
    "\n",
    "nhru_nmonths_params = [\n",
    "    \"adjmix_rain\",\n",
    "    \"cecn_coef\",\n",
    "    \"jh_coef\",\n",
    "    \"radmax\",\n",
    "    \"rain_cbh_adj\",\n",
    "    \"snow_cbh_adj\",\n",
    "    \"tmax_allrain_offset\",\n",
    "    \"tmax_allsnow\",\n",
    "    \"tmax_cbh_adj\",\n",
    "    \"tmin_cbh_adj\",\n",
    "]"
   ]
  },
  {
   "cell_type": "markdown",
   "id": "cdaa7b6e-4c00-4cd0-bc17-daa73fcaf941",
   "metadata": {},
   "source": [
    "<font size= '4'> &#x270D;<font color='green'>**Enter Information:** </font> **List of output variables**.</font><br>\n",
    "<font size = '3'> Notebooks 5 and 6 visualize model output variables from the output file file. List the output variables desired to visualize. To find a list of additional variables for each process, use \".get_variables()\". Examples are below.\n",
    "\n",
    "```python\n",
    "pws.PRMSCanopy.get_variables()\n",
    "pws.PRMSSnow.get_variables()\n",
    "pws.PRMSRunoff.get_variables()\n",
    "pws.PRMSSoilzone.get_variables()\n",
    "pws.PRMSGroundwater.get_variables()\n",
    "pws.PRMSChannel.get_variables()\n",
    "pws.PRMSStarfit.get_variables()\n",
    "pws.meta.find_variables([pws.PRMSChannel.get_variables()[2]])\n",
    "```"
   ]
  },
  {
   "cell_type": "code",
   "execution_count": null,
   "id": "b3a320e0-a112-4071-8502-4103904f0678",
   "metadata": {},
   "outputs": [],
   "source": [
    "selected_output_variables = [\n",
    "    \"gwres_flow\",\n",
    "    \"gwres_flow_vol\",\n",
    "    \"gwres_sink\",\n",
    "    \"gwres_stor\",\n",
    "    \"gwres_stor_change\",\n",
    "    \"hru_actet\",\n",
    "    \"net_ppt\",\n",
    "    \"net_rain\",\n",
    "    \"net_snow\",\n",
    "    \"recharge\",\n",
    "    \"seg_outflow\",\n",
    "    \"snowmelt\",\n",
    "    \"sroff\",\n",
    "    \"sroff_vol\",\n",
    "    \"ssres_flow\",\n",
    "    \"ssres_flow_vol\",\n",
    "    \"ssres_stor\",\n",
    "    \"unused_potet\",\n",
    "]"
   ]
  },
  {
   "cell_type": "markdown",
   "id": "81a233e0-214e-4764-ba2a-4052447f069f",
   "metadata": {},
   "source": [
    "<font size= '4'> &#x270D;<font color='green'>**Enter Information:** </font> **Display output in calendar years (January 1st - December 31st) or water years (October 1st - September 30th)**.</font><br>\n",
    "<font size = '3'> Notebooks 5 and 6 visualize model output variables based upon calendar years or water years.\n",
    "<br>Default is water years set to **True**. Change to **False** if calendar years are preferred."
   ]
  },
  {
   "cell_type": "code",
   "execution_count": null,
   "id": "bdb84511-c04d-4e0b-bf21-cfacb13578b1",
   "metadata": {},
   "outputs": [],
   "source": [
    "water_years = True"
   ]
  },
  {
   "cell_type": "markdown",
   "id": "640fad8c-069b-46e8-ae9e-da4a3c1afb60",
   "metadata": {},
   "source": [
    "<font size = '3'>All needed information has been provided above. Run the cell below to create the needed objects, paths and directories for nhm-assist notebooks.\n",
    "You're <font size=5 color=\"red\">**NOT FINISHED YET! SAVE YOUR NOTEBOOK**</font> <font size = '3'>to retain entered information!"
   ]
  },
  {
   "cell_type": "code",
   "execution_count": null,
   "id": "0055129a-20da-4a80-8794-297d6d3a41d4",
   "metadata": {},
   "outputs": [],
   "source": [
    "# Establish paths and file names\n",
    "gages_file = model_dir / \"gages.csv\"\n",
    "default_gages_file = model_dir / \"default_gages.csv\"\n",
    "nwis_gages_file = model_dir / \"NWISgages.csv\"\n",
    "output_netcdf_filename = model_dir / \"notebook_output_files/nc_files/sf_efc.nc\"\n",
    "notebook_dir = pl.Path(\"./\").resolve()\n",
    "NHM_dir = notebook_dir / \"data_dependencies/NHM_v1_1\"\n",
    "prms_meta = MetaData().metadata\n",
    "pdb = ParameterFile(param_filename, metadata=prms_meta, verbose=False)\n",
    "\n",
    "# Create/verify Jupyter notebooks output folder and subfolders in the model directory.\n",
    "out_dir = model_dir / \"output\"\n",
    "out_dir.mkdir(parents=True, exist_ok=True)\n",
    "\n",
    "notebook_output_dir = model_dir / \"notebook_output_files\"\n",
    "notebook_output_dir.mkdir(parents=True, exist_ok=True)\n",
    "\n",
    "Folium_maps_dir = notebook_output_dir / \"Folium_maps\"\n",
    "Folium_maps_dir.mkdir(parents=True, exist_ok=True)\n",
    "\n",
    "html_maps_dir = notebook_output_dir / \"html_maps\"\n",
    "html_maps_dir.mkdir(parents=True, exist_ok=True)\n",
    "\n",
    "html_plots_dir = notebook_output_dir / \"html_plots\"\n",
    "html_plots_dir.mkdir(parents=True, exist_ok=True)\n",
    "\n",
    "nc_files_dir = notebook_output_dir / \"nc_files\"\n",
    "nc_files_dir.mkdir(parents=True, exist_ok=True)\n",
    "\n",
    "# Print messages to display\n",
    "workspace_txt = f\"NHM model domain: [bold black]{subdomain}[/bold black], parameter file: [bold black]{param_file}[/bold black]\\nSimulation and observation data range: {pd.to_datetime(str(control.start_time)).strftime('%m/%d/%Y')} - {pd.to_datetime(str(control.end_time)).strftime('%m/%d/%Y')} (from [bold]{control_file_name}[/bold]).\""
   ]
  }
 ],
 "metadata": {
  "language_info": {
   "name": "python"
  }
 },
 "nbformat": 4,
 "nbformat_minor": 5
}
